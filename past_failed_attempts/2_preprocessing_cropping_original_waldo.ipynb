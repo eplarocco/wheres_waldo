{
 "cells": [
  {
   "cell_type": "markdown",
   "metadata": {},
   "source": [
    "# Assignment 4: Wheres Waldo?\n",
    "### Name: Eileanor LaRocco\n",
    "In this assignment, you will develop an object detection algorithm to locate Waldo in a set of images. You will develop a model to detect the bounding box around Waldo. Your final task is to submit your predictions on Kaggle for evaluation."
   ]
  },
  {
   "cell_type": "markdown",
   "metadata": {},
   "source": [
    "### Imports"
   ]
  },
  {
   "cell_type": "code",
   "execution_count": 1,
   "metadata": {},
   "outputs": [],
   "source": [
    "import os\n",
    "import opendatasets as od\n",
    "import pandas as pd\n",
    "import numpy as np\n",
    "import random\n",
    "import csv\n",
    "import matplotlib.pyplot as plt\n",
    "#!pip install opencv-python\n",
    "import cv2\n",
    "\n",
    "import shutil\n",
    "from sklearn.model_selection import train_test_split\n",
    "\n",
    "import torch\n",
    "import torch.nn as nn\n",
    "import torch.optim as optim\n",
    "import torch.utils.data\n",
    "from torch.utils.data import DataLoader\n",
    "import torchvision\n",
    "import torch.nn.functional as F\n",
    "import torchvision.transforms as transforms\n",
    "from PIL import Image"
   ]
  },
  {
   "cell_type": "code",
   "execution_count": 2,
   "metadata": {},
   "outputs": [
    {
     "name": "stdout",
     "output_type": "stream",
     "text": [
      "cuda\n"
     ]
    }
   ],
   "source": [
    "SEED = 1\n",
    "\n",
    "random.seed(SEED)\n",
    "np.random.seed(SEED)\n",
    "torch.manual_seed(SEED)\n",
    "torch.cuda.manual_seed(SEED)\n",
    "torch.backends.cudnn.deterministic = True\n",
    "\n",
    "device = device = torch.device(\"cuda\") #mps\n",
    "print(device)"
   ]
  },
  {
   "cell_type": "markdown",
   "metadata": {},
   "source": [
    "### Download Data"
   ]
  },
  {
   "cell_type": "code",
   "execution_count": 3,
   "metadata": {},
   "outputs": [
    {
     "name": "stdout",
     "output_type": "stream",
     "text": [
      "Please provide your Kaggle credentials to download this dataset. Learn more: http://bit.ly/kaggle-creds\n",
      "Your Kaggle username:"
     ]
    },
    {
     "name": "stdin",
     "output_type": "stream",
     "text": [
      "  eileanorplarocco\n"
     ]
    },
    {
     "name": "stdout",
     "output_type": "stream",
     "text": [
      "Your Kaggle Key:"
     ]
    },
    {
     "name": "stdin",
     "output_type": "stream",
     "text": [
      "  ········\n"
     ]
    },
    {
     "name": "stdout",
     "output_type": "stream",
     "text": [
      "Downloading 2024-fall-ml-3-hw-4-wheres-waldo.zip to ./2024-fall-ml-3-hw-4-wheres-waldo\n"
     ]
    },
    {
     "name": "stderr",
     "output_type": "stream",
     "text": [
      "100%|██████████| 38.2M/38.2M [00:00<00:00, 57.8MB/s]"
     ]
    },
    {
     "name": "stdout",
     "output_type": "stream",
     "text": [
      "\n",
      "Extracting archive ./2024-fall-ml-3-hw-4-wheres-waldo/2024-fall-ml-3-hw-4-wheres-waldo.zip to ./2024-fall-ml-3-hw-4-wheres-waldo\n"
     ]
    },
    {
     "name": "stderr",
     "output_type": "stream",
     "text": [
      "\n"
     ]
    }
   ],
   "source": [
    "od.download('https://www.kaggle.com/competitions/2024-fall-ml-3-hw-4-wheres-waldo/data')"
   ]
  },
  {
   "cell_type": "markdown",
   "metadata": {},
   "source": [
    "### Paths"
   ]
  },
  {
   "cell_type": "code",
   "execution_count": 4,
   "metadata": {},
   "outputs": [],
   "source": [
    "train_folder = \"2024-fall-ml-3-hw-4-wheres-waldo/train/train\" # Original Train Images\n",
    "test_folder = \"2024-fall-ml-3-hw-4-wheres-waldo/test/test\" # Original Test Images\n",
    "annotations_file = \"2024-fall-ml-3-hw-4-wheres-waldo/annotations.csv\" # Original Annotations File"
   ]
  },
  {
   "cell_type": "markdown",
   "metadata": {},
   "source": [
    "# Preprocessing"
   ]
  },
  {
   "cell_type": "markdown",
   "metadata": {},
   "source": [
    "### Draw bounding boxes on each training image to check accuracy"
   ]
  },
  {
   "cell_type": "code",
   "execution_count": 5,
   "metadata": {},
   "outputs": [
    {
     "name": "stdout",
     "output_type": "stream",
     "text": [
      "Annotated image saved to 2024-fall-ml-3-hw-4-wheres-waldo/checks/1.jpg\n",
      "Annotated image saved to 2024-fall-ml-3-hw-4-wheres-waldo/checks/10.jpg\n",
      "Annotated image saved to 2024-fall-ml-3-hw-4-wheres-waldo/checks/11.jpg\n",
      "Annotated image saved to 2024-fall-ml-3-hw-4-wheres-waldo/checks/12.jpg\n",
      "Annotated image saved to 2024-fall-ml-3-hw-4-wheres-waldo/checks/13.jpg\n",
      "Annotated image saved to 2024-fall-ml-3-hw-4-wheres-waldo/checks/14.jpg\n",
      "Annotated image saved to 2024-fall-ml-3-hw-4-wheres-waldo/checks/15.jpg\n",
      "Annotated image saved to 2024-fall-ml-3-hw-4-wheres-waldo/checks/17.jpg\n",
      "Annotated image saved to 2024-fall-ml-3-hw-4-wheres-waldo/checks/18.jpg\n",
      "Annotated image saved to 2024-fall-ml-3-hw-4-wheres-waldo/checks/19.jpg\n",
      "Annotated image saved to 2024-fall-ml-3-hw-4-wheres-waldo/checks/2.jpg\n",
      "Annotated image saved to 2024-fall-ml-3-hw-4-wheres-waldo/checks/3.jpg\n",
      "Annotated image saved to 2024-fall-ml-3-hw-4-wheres-waldo/checks/4.jpg\n",
      "Annotated image saved to 2024-fall-ml-3-hw-4-wheres-waldo/checks/5.jpg\n",
      "Annotated image saved to 2024-fall-ml-3-hw-4-wheres-waldo/checks/6.jpg\n",
      "Annotated image saved to 2024-fall-ml-3-hw-4-wheres-waldo/checks/7.jpg\n",
      "Annotated image saved to 2024-fall-ml-3-hw-4-wheres-waldo/checks/8.jpg\n",
      "Annotated image saved to 2024-fall-ml-3-hw-4-wheres-waldo/checks/9.jpg\n",
      "Annotated image saved to 2024-fall-ml-3-hw-4-wheres-waldo/checks/8.jpg\n",
      "Annotated image saved to 2024-fall-ml-3-hw-4-wheres-waldo/checks/10.jpg\n",
      "Annotated image saved to 2024-fall-ml-3-hw-4-wheres-waldo/checks/16.jpg\n",
      "Annotated image saved to 2024-fall-ml-3-hw-4-wheres-waldo/checks/20.jpg\n",
      "Annotated image saved to 2024-fall-ml-3-hw-4-wheres-waldo/checks/21.jpg\n",
      "Annotated image saved to 2024-fall-ml-3-hw-4-wheres-waldo/checks/22.jpg\n",
      "Annotated image saved to 2024-fall-ml-3-hw-4-wheres-waldo/checks/23.jpg\n",
      "Annotated image saved to 2024-fall-ml-3-hw-4-wheres-waldo/checks/24.jpg\n",
      "Annotated image saved to 2024-fall-ml-3-hw-4-wheres-waldo/checks/25.jpg\n",
      "Annotated image saved to 2024-fall-ml-3-hw-4-wheres-waldo/checks/26.jpg\n",
      "Annotated image saved to 2024-fall-ml-3-hw-4-wheres-waldo/checks/27.jpg\n",
      "Annotated image saved to 2024-fall-ml-3-hw-4-wheres-waldo/checks/27.jpg\n",
      "Annotated image saved to 2024-fall-ml-3-hw-4-wheres-waldo/checks/27.jpg\n",
      "Annotated image saved to 2024-fall-ml-3-hw-4-wheres-waldo/checks/27.jpg\n",
      "Annotated image saved to 2024-fall-ml-3-hw-4-wheres-waldo/checks/27.jpg\n",
      "Annotated image saved to 2024-fall-ml-3-hw-4-wheres-waldo/checks/27.jpg\n",
      "All bounding boxes have been drawn and saved.\n"
     ]
    }
   ],
   "source": [
    "# Paths\n",
    "output_folder = \"2024-fall-ml-3-hw-4-wheres-waldo/checks\"  # Folder to save images with drawn boxes\n",
    "\n",
    "# Create the output folder if it doesn't exist\n",
    "os.makedirs(output_folder, exist_ok=True)\n",
    "\n",
    "# Read the CSV file\n",
    "# Assumes the CSV columns are: filename, xmin, ymin, xmax, ymax\n",
    "annotations = pd.read_csv(annotations_file)\n",
    "\n",
    "# Iterate through each image in the annotations\n",
    "for _, row in annotations.iterrows():\n",
    "    image_name = row[\"filename\"]\n",
    "    x_min, y_min, x_max, y_max = row[\"xmin\"], row[\"ymin\"], row[\"xmax\"], row[\"ymax\"]\n",
    "    \n",
    "    # Load the image\n",
    "    image_path = os.path.join(train_folder, image_name)\n",
    "    if not os.path.exists(image_path):\n",
    "        print(f\"Image {image_path} not found. Skipping...\")\n",
    "        continue\n",
    "    image = cv2.imread(image_path)\n",
    "    \n",
    "    # Draw the bounding box\n",
    "    # cv2.rectangle(image, (x_min, y_min), (x_max, y_max), (B, G, R), thickness)\n",
    "    cv2.rectangle(image, (int(x_min), int(y_min)), (int(x_max), int(y_max)), (0, 255, 0), 4)\n",
    "    \n",
    "    # Optionally, add a label or text\n",
    "    label = \"Waldo\"\n",
    "    cv2.putText(image, label, (int(x_min), int(y_min) - 10), cv2.FONT_HERSHEY_SIMPLEX, 0.5, (0, 255, 0), 2)\n",
    "    \n",
    "    # Save the image\n",
    "    output_path = os.path.join(output_folder, image_name)\n",
    "    cv2.imwrite(output_path, image)\n",
    "\n",
    "    print(f\"Annotated image saved to {output_path}\")\n",
    "\n",
    "print(\"All bounding boxes have been drawn and saved.\")"
   ]
  },
  {
   "cell_type": "code",
   "execution_count": 6,
   "metadata": {
    "tags": []
   },
   "outputs": [
    {
     "name": "stdout",
     "output_type": "stream",
     "text": [
      "Deleted: 2024-fall-ml-3-hw-4-wheres-waldo/train/train/24.jpg\n",
      "Deleted: 2024-fall-ml-3-hw-4-wheres-waldo/train/train/22.jpg\n",
      "Deleted: 2024-fall-ml-3-hw-4-wheres-waldo/train/train/10.jpg\n",
      "Deleted: 2024-fall-ml-3-hw-4-wheres-waldo/train/train/27.jpg\n",
      "Deleted: 2024-fall-ml-3-hw-4-wheres-waldo/train/train/25.jpg\n",
      "Deleted: 2024-fall-ml-3-hw-4-wheres-waldo/train/train/8.jpg\n",
      "Deleted: 2024-fall-ml-3-hw-4-wheres-waldo/train/train/23.jpg\n",
      "Deleted: 2024-fall-ml-3-hw-4-wheres-waldo/train/train/16.jpg\n",
      "Deleted: 2024-fall-ml-3-hw-4-wheres-waldo/train/train/26.jpg\n"
     ]
    }
   ],
   "source": [
    "### Remove training images that don't include waldo as he appears in test images\n",
    "#16,22-27 do not include waldo in a background, 8 and 10 include waldo in the postcard\n",
    "\n",
    "def delete_files_from_list(folder_path, file_names_to_delete):\n",
    "    \"\"\"Deletes files in the given folder if their name is in the provided list.\"\"\"\n",
    "\n",
    "    for filename in os.listdir(folder_path):\n",
    "        if filename in file_names_to_delete:\n",
    "            file_path = os.path.join(folder_path, filename)\n",
    "            os.remove(file_path)\n",
    "            print(f\"Deleted: {file_path}\")\n",
    "\n",
    "if __name__ == \"__main__\":\n",
    "    folder_path =  \"2024-fall-ml-3-hw-4-wheres-waldo/train/train\"\n",
    "    file_names_to_delete = [\"8.jpg\", \"10.jpg\", \"16.jpg\", \"22.jpg\", \"23.jpg\", \"24.jpg\", \"25.jpg\", \"26.jpg\", \"27.jpg\"]\n",
    "    delete_files_from_list(folder_path, file_names_to_delete)"
   ]
  },
  {
   "cell_type": "code",
   "execution_count": 10,
   "metadata": {
    "tags": []
   },
   "outputs": [],
   "source": [
    "# Remove associated annotations\n",
    "import pandas as pd\n",
    "\n",
    "df = pd.read_csv(annotations_file)\n",
    "\n",
    "# Keep rows where the value in column 'filename' is not in the list\n",
    "df = df[~df['filename'].isin(file_names_to_delete)]\n",
    "df.to_csv(annotations_file, index=False)\n"
   ]
  },
  {
   "cell_type": "code",
   "execution_count": 17,
   "metadata": {
    "tags": []
   },
   "outputs": [
    {
     "name": "stdout",
     "output_type": "stream",
     "text": [
      "Generated crops saved to 2024-fall-ml-3-hw-4-wheres-waldo/train/chunks. New annotations saved to 2024-fall-ml-3-hw-4-wheres-waldo/chunks_annotations.csv.\n"
     ]
    }
   ],
   "source": [
    "# Create more training data - randomly crop 512x512 sections where full waldo bounding box exists\n",
    "\n",
    "import os\n",
    "import pandas as pd\n",
    "import csv\n",
    "import random\n",
    "from PIL import Image\n",
    "\n",
    "def generate_crops(train_folder, annotations_file, output_folder, output_csv, crop_size=512, num_crops=5):\n",
    "    # Ensure the output folder exists - if not, make it\n",
    "    os.makedirs(output_folder, exist_ok=True)\n",
    "    \n",
    "    # Load annotations\n",
    "    annotations = pd.read_csv(annotations_file)\n",
    "    \n",
    "    new_annotations = []\n",
    "    \n",
    "    for _, row in annotations.iterrows():\n",
    "        img_path = os.path.join(train_folder, row['filename'])\n",
    "        image = Image.open(img_path)\n",
    "        width, height = image.size\n",
    "        \n",
    "        x_min, y_min, x_max, y_max = row['xmin'], row['ymin'], row['xmax'], row['ymax']\n",
    "        \n",
    "        for i in range(num_crops):\n",
    "            # Generate random crop coordinates\n",
    "            crop_x_min = max(0, random.randint(x_min - crop_size, x_min))\n",
    "            crop_y_min = max(0, random.randint(y_min - crop_size, y_min))\n",
    "            crop_x_max = min(crop_x_min + crop_size, width)\n",
    "            crop_y_max = min(crop_y_min + crop_size, height)\n",
    "            \n",
    "            # Adjust crop to ensure it's exactly crop_size x crop_size\n",
    "            if crop_x_max - crop_x_min < crop_size:\n",
    "                crop_x_min = max(0, crop_x_max - crop_size)\n",
    "            if crop_y_max - crop_y_min < crop_size:\n",
    "                crop_y_min = max(0, crop_y_max - crop_size)\n",
    "            \n",
    "            # Ensure Waldo is fully included in the crop\n",
    "            if not (crop_x_min <= x_min and crop_x_max >= x_max and crop_y_min <= y_min and crop_y_max >= y_max):\n",
    "                continue\n",
    "            \n",
    "            # Crop the image\n",
    "            cropped_image = image.crop((crop_x_min, crop_y_min, crop_x_max, crop_y_max))\n",
    "            \n",
    "            # Save the cropped image\n",
    "            new_filename = f\"{os.path.splitext(row['filename'])[0]}_crop_{i}.jpg\"\n",
    "            cropped_image.save(os.path.join(output_folder, new_filename))\n",
    "            \n",
    "            # Calculate the new bounding box coordinates\n",
    "            new_x_min = x_min - crop_x_min\n",
    "            new_y_min = y_min - crop_y_min\n",
    "            new_x_max = x_max - crop_x_min\n",
    "            new_y_max = y_max - crop_y_min\n",
    "            \n",
    "            # Add to new annotations\n",
    "            new_annotations.append({\n",
    "                \"filename\": new_filename,\n",
    "                \"xmin\": new_x_min,\n",
    "                \"ymin\": new_y_min,\n",
    "                \"xmax\": new_x_max,\n",
    "                \"ymax\": new_y_max\n",
    "            })\n",
    "    \n",
    "    # Save new annotations to CSV\n",
    "    new_annotations_df = pd.DataFrame(new_annotations)\n",
    "    new_annotations_df.to_csv(output_csv, index=False)\n",
    "    print(f\"Generated crops saved to {output_folder}. New annotations saved to {output_csv}.\")\n",
    "\n",
    "# Define the paths\n",
    "output_folder = \"2024-fall-ml-3-hw-4-wheres-waldo/train/chunks\"\n",
    "output_csv = \"2024-fall-ml-3-hw-4-wheres-waldo/chunks_annotations.csv\"\n",
    "crop_size = 512\n",
    "num_crops = 40\n",
    "\n",
    "#Use function\n",
    "generate_crops(train_folder, annotations_file, output_folder, output_csv, crop_size, num_crops)\n"
   ]
  },
  {
   "cell_type": "markdown",
   "metadata": {},
   "source": [
    "# Train/Test Split"
   ]
  },
  {
   "cell_type": "code",
   "execution_count": 18,
   "metadata": {},
   "outputs": [],
   "source": [
    "# Split training data into train and validation sets\n",
    "annotations = pd.read_csv(\"2024-fall-ml-3-hw-4-wheres-waldo/chunks_annotations.csv\")\n",
    "image_files = annotations[\"filename\"].unique()\n",
    "train_images, val_images = train_test_split(image_files, test_size=0.2, random_state=42)\n",
    "\n",
    "def filter_csv_by_column(input_csv, output_csv, column_name, values_list):\n",
    "\n",
    "    # Load the CSV into a DataFrame\n",
    "    df = pd.read_csv(input_csv)\n",
    "\n",
    "    # Filter the DataFrame\n",
    "    filtered_df = df[df[column_name].isin(values_list)]\n",
    "\n",
    "    # Save the filtered DataFrame to a new CSV file\n",
    "    filtered_df.to_csv(output_csv, index=False)\n",
    "\n",
    "#Train Annotations\n",
    "values_list = list(train_images)\n",
    "output_csv = \"2024-fall-ml-3-hw-4-wheres-waldo/train_annotations.csv\"\n",
    "column_name = \"filename\"\n",
    "filter_csv_by_column(\"2024-fall-ml-3-hw-4-wheres-waldo/chunks_annotations.csv\", output_csv, column_name, values_list)\n",
    "\n",
    "#Test Annotations\n",
    "values_list = list(val_images)\n",
    "output_csv = \"2024-fall-ml-3-hw-4-wheres-waldo/test_annotations.csv\"\n",
    "column_name = \"filename\"\n",
    "filter_csv_by_column(\"2024-fall-ml-3-hw-4-wheres-waldo/chunks_annotations.csv\", output_csv, column_name, values_list)\n",
    "\n",
    "#Train/Test Split (80/20)\n",
    "def split_directory(source_dir, target_dir, file_list):\n",
    "    \"\"\"Splits files from source_dir to target_dir based on file_list.\"\"\"\n",
    "\n",
    "    if not os.path.exists(target_dir):\n",
    "        os.makedirs(target_dir)\n",
    "\n",
    "    for file_name in file_list:\n",
    "        source_path = os.path.join(source_dir, file_name)\n",
    "        target_path = os.path.join(target_dir, file_name)\n",
    "\n",
    "        if os.path.exists(source_path):\n",
    "            shutil.move(source_path, target_path)\n",
    "            #print(f\"Moved: {file_name}\")\n",
    "        else:\n",
    "            print(f\"File not found: {file_name}\")\n",
    "\n",
    "if __name__ == \"__main__\":\n",
    "    source_dir = \"2024-fall-ml-3-hw-4-wheres-waldo/train/chunks\"\n",
    "    target_dir = \"2024-fall-ml-3-hw-4-wheres-waldo/train/val\"\n",
    "    file_list = list(val_images)\n",
    "\n",
    "    split_directory(source_dir, target_dir, file_list)"
   ]
  },
  {
   "cell_type": "code",
   "execution_count": null,
   "metadata": {},
   "outputs": [],
   "source": []
  }
 ],
 "metadata": {
  "kernelspec": {
   "display_name": "Python 3 (ipykernel)",
   "language": "python",
   "name": "python3"
  },
  "language_info": {
   "codemirror_mode": {
    "name": "ipython",
    "version": 3
   },
   "file_extension": ".py",
   "mimetype": "text/x-python",
   "name": "python",
   "nbconvert_exporter": "python",
   "pygments_lexer": "ipython3",
   "version": "3.11.4"
  }
 },
 "nbformat": 4,
 "nbformat_minor": 4
}
