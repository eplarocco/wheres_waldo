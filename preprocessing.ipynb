{
 "cells": [
  {
   "cell_type": "markdown",
   "metadata": {},
   "source": [
    "# Assignment 4: Wheres Waldo?\n",
    "### Name: Eileanor LaRocco\n",
    "In this assignment, you will develop an object detection algorithm to locate Waldo in a set of images. You will develop a model to detect the bounding box around Waldo. Your final task is to submit your predictions on Kaggle for evaluation."
   ]
  },
  {
   "cell_type": "markdown",
   "metadata": {},
   "source": [
    "### Process/Issues\n",
    "- Double-checked that the images we were given were correctly bounded (did this by visualizing the boxes on the images - they look good!)\n",
    "- Complication: Originally when I creating augmented images, the bounding box labels did not also augment. I also had to try out a few types of augmentation to see what made sense for waldo. The augmented images may still not be as different from one another as they could be which could allow the model to favor the training images that occur more frequently.\n",
    "- Complication: Similarly, when resizing the images, ensuring the bounding boxes not only are also adjusted if necessary, but ensuring they do not get cut off and the image is not stretched/shrunk too much.\n",
    "- Tried Yolo architecture first but produced too many boxes and did not work well. Tried faster rcnn architecture next and the inputs and outputs and processing steps for each were very different which was frustrating"
   ]
  },
  {
   "cell_type": "markdown",
   "metadata": {},
   "source": [
    "### Imports"
   ]
  },
  {
   "cell_type": "code",
   "execution_count": 5,
   "metadata": {},
   "outputs": [],
   "source": [
    "import os\n",
    "import opendatasets as od\n",
    "import pandas as pd\n",
    "import numpy as np\n",
    "import random\n",
    "import csv\n",
    "import matplotlib.pyplot as plt\n",
    "import cv2\n",
    "\n",
    "import shutil\n",
    "from sklearn.model_selection import train_test_split\n",
    "\n",
    "import torch\n",
    "import torch.nn as nn\n",
    "import torch.optim as optim\n",
    "import torch.utils.data\n",
    "from torch.utils.data import DataLoader\n",
    "import torchvision\n",
    "import torch.nn.functional as F\n",
    "import torchvision.transforms as transforms\n",
    "from PIL import Image"
   ]
  },
  {
   "cell_type": "code",
   "execution_count": 2,
   "metadata": {},
   "outputs": [
    {
     "name": "stdout",
     "output_type": "stream",
     "text": [
      "mps\n"
     ]
    }
   ],
   "source": [
    "SEED = 1\n",
    "\n",
    "random.seed(SEED)\n",
    "np.random.seed(SEED)\n",
    "torch.manual_seed(SEED)\n",
    "torch.cuda.manual_seed(SEED)\n",
    "torch.backends.cudnn.deterministic = True\n",
    "\n",
    "device = device = torch.device(\"mps\")\n",
    "print(device)"
   ]
  },
  {
   "cell_type": "markdown",
   "metadata": {},
   "source": [
    "### Download Data"
   ]
  },
  {
   "cell_type": "code",
   "execution_count": 3,
   "metadata": {},
   "outputs": [
    {
     "name": "stdout",
     "output_type": "stream",
     "text": [
      "Please provide your Kaggle credentials to download this dataset. Learn more: http://bit.ly/kaggle-creds\n",
      "Your Kaggle username:Your Kaggle Key:Downloading 2024-fall-ml-3-hw-4-wheres-waldo.zip to ./2024-fall-ml-3-hw-4-wheres-waldo\n"
     ]
    },
    {
     "name": "stderr",
     "output_type": "stream",
     "text": [
      "100%|██████████| 38.2M/38.2M [00:01<00:00, 36.8MB/s]\n"
     ]
    },
    {
     "name": "stdout",
     "output_type": "stream",
     "text": [
      "\n",
      "Extracting archive ./2024-fall-ml-3-hw-4-wheres-waldo/2024-fall-ml-3-hw-4-wheres-waldo.zip to ./2024-fall-ml-3-hw-4-wheres-waldo\n"
     ]
    }
   ],
   "source": [
    "od.download('https://www.kaggle.com/competitions/2024-fall-ml-3-hw-4-wheres-waldo/data')"
   ]
  },
  {
   "cell_type": "markdown",
   "metadata": {},
   "source": [
    "### Paths"
   ]
  },
  {
   "cell_type": "code",
   "execution_count": 3,
   "metadata": {},
   "outputs": [],
   "source": [
    "train_folder = \"2024-fall-ml-3-hw-4-wheres-waldo/train/train\" # Original Train Images\n",
    "test_folder = \"2024-fall-ml-3-hw-4-wheres-waldo/test/test\" # Original Test Images\n",
    "annotations_file = \"2024-fall-ml-3-hw-4-wheres-waldo/annotations.csv\" # Original Annotations File"
   ]
  },
  {
   "cell_type": "markdown",
   "metadata": {},
   "source": [
    "# Preprocessing"
   ]
  },
  {
   "cell_type": "markdown",
   "metadata": {},
   "source": [
    "### Check size of each training imaage"
   ]
  },
  {
   "cell_type": "code",
   "execution_count": 6,
   "metadata": {},
   "outputs": [
    {
     "name": "stdout",
     "output_type": "stream",
     "text": [
      "Image: 8.jpg, Width: 2800, Height: 1760\n",
      "Image: 9.jpg, Width: 1298, Height: 951\n",
      "Image: 14.jpg, Width: 1700, Height: 2340\n",
      "Image: 15.jpg, Width: 1600, Height: 1006\n",
      "Image: 17.jpg, Width: 1599, Height: 1230\n",
      "Image: 12.jpg, Width: 1276, Height: 1754\n",
      "Image: 13.jpg, Width: 1280, Height: 864\n",
      "Image: 11.jpg, Width: 2828, Height: 1828\n",
      "Image: 10.jpg, Width: 1600, Height: 980\n",
      "Image: 21.jpg, Width: 2048, Height: 1515\n",
      "Image: 20.jpg, Width: 2953, Height: 2088\n",
      "Image: 18.jpg, Width: 1590, Height: 981\n",
      "Image: 19.jpg, Width: 1280, Height: 864\n",
      "Image: 4.jpg, Width: 2048, Height: 1272\n",
      "Image: 5.jpg, Width: 2100, Height: 1760\n",
      "Image: 7.jpg, Width: 1949, Height: 1419\n",
      "Image: 6.jpg, Width: 2048, Height: 1454\n",
      "Image: 2.jpg, Width: 1286, Height: 946\n",
      "Image: 3.jpg, Width: 2048, Height: 1346\n",
      "Image: 1.jpg, Width: 2048, Height: 1251\n"
     ]
    }
   ],
   "source": [
    "# Train Images\n",
    "import cv2\n",
    "\n",
    "# Iterate over all images in the folder\n",
    "for image_name in os.listdir(train_folder):\n",
    "    if image_name.endswith((\".jpg\")):  # Check for common image extensions\n",
    "        image_path = os.path.join(train_folder, image_name)\n",
    "        \n",
    "        # Read the image using OpenCV\n",
    "        img = cv2.imread(image_path)\n",
    "        if img is not None:\n",
    "            height, width, channels = img.shape  # Get image size (height, width, channels)\n",
    "            print(f\"Image: {image_name}, Width: {width}, Height: {height}\")\n",
    "        else:\n",
    "            print(f\"Could not read image: {image_name}\")\n",
    "\n",
    "#Image 27 includes waldo 6 times, 10 2 times, 8 2 times\n",
    "#16,22-27 do not include waldo in a background"
   ]
  },
  {
   "cell_type": "markdown",
   "metadata": {},
   "source": [
    "### Draw bounding boxes on each training image to check accuracy"
   ]
  },
  {
   "cell_type": "code",
   "execution_count": 6,
   "metadata": {},
   "outputs": [
    {
     "name": "stdout",
     "output_type": "stream",
     "text": [
      "Annotated image saved to 2024-fall-ml-3-hw-4-wheres-waldo/checks/1.jpg\n",
      "Annotated image saved to 2024-fall-ml-3-hw-4-wheres-waldo/checks/10.jpg\n",
      "Annotated image saved to 2024-fall-ml-3-hw-4-wheres-waldo/checks/11.jpg\n",
      "Annotated image saved to 2024-fall-ml-3-hw-4-wheres-waldo/checks/12.jpg\n",
      "Annotated image saved to 2024-fall-ml-3-hw-4-wheres-waldo/checks/13.jpg\n",
      "Annotated image saved to 2024-fall-ml-3-hw-4-wheres-waldo/checks/14.jpg\n",
      "Annotated image saved to 2024-fall-ml-3-hw-4-wheres-waldo/checks/15.jpg\n",
      "Annotated image saved to 2024-fall-ml-3-hw-4-wheres-waldo/checks/17.jpg\n",
      "Annotated image saved to 2024-fall-ml-3-hw-4-wheres-waldo/checks/18.jpg\n",
      "Annotated image saved to 2024-fall-ml-3-hw-4-wheres-waldo/checks/19.jpg\n",
      "Annotated image saved to 2024-fall-ml-3-hw-4-wheres-waldo/checks/2.jpg\n",
      "Annotated image saved to 2024-fall-ml-3-hw-4-wheres-waldo/checks/3.jpg\n",
      "Annotated image saved to 2024-fall-ml-3-hw-4-wheres-waldo/checks/4.jpg\n",
      "Annotated image saved to 2024-fall-ml-3-hw-4-wheres-waldo/checks/5.jpg\n",
      "Annotated image saved to 2024-fall-ml-3-hw-4-wheres-waldo/checks/6.jpg\n",
      "Annotated image saved to 2024-fall-ml-3-hw-4-wheres-waldo/checks/7.jpg\n",
      "Annotated image saved to 2024-fall-ml-3-hw-4-wheres-waldo/checks/8.jpg\n",
      "Annotated image saved to 2024-fall-ml-3-hw-4-wheres-waldo/checks/9.jpg\n",
      "Annotated image saved to 2024-fall-ml-3-hw-4-wheres-waldo/checks/8.jpg\n",
      "Annotated image saved to 2024-fall-ml-3-hw-4-wheres-waldo/checks/10.jpg\n",
      "Annotated image saved to 2024-fall-ml-3-hw-4-wheres-waldo/checks/16.jpg\n",
      "Annotated image saved to 2024-fall-ml-3-hw-4-wheres-waldo/checks/20.jpg\n",
      "Annotated image saved to 2024-fall-ml-3-hw-4-wheres-waldo/checks/21.jpg\n",
      "Annotated image saved to 2024-fall-ml-3-hw-4-wheres-waldo/checks/22.jpg\n",
      "Annotated image saved to 2024-fall-ml-3-hw-4-wheres-waldo/checks/23.jpg\n",
      "Annotated image saved to 2024-fall-ml-3-hw-4-wheres-waldo/checks/24.jpg\n",
      "Annotated image saved to 2024-fall-ml-3-hw-4-wheres-waldo/checks/25.jpg\n",
      "Annotated image saved to 2024-fall-ml-3-hw-4-wheres-waldo/checks/26.jpg\n",
      "Annotated image saved to 2024-fall-ml-3-hw-4-wheres-waldo/checks/27.jpg\n",
      "Annotated image saved to 2024-fall-ml-3-hw-4-wheres-waldo/checks/27.jpg\n",
      "Annotated image saved to 2024-fall-ml-3-hw-4-wheres-waldo/checks/27.jpg\n",
      "Annotated image saved to 2024-fall-ml-3-hw-4-wheres-waldo/checks/27.jpg\n",
      "Annotated image saved to 2024-fall-ml-3-hw-4-wheres-waldo/checks/27.jpg\n",
      "Annotated image saved to 2024-fall-ml-3-hw-4-wheres-waldo/checks/27.jpg\n",
      "All bounding boxes have been drawn and saved.\n"
     ]
    }
   ],
   "source": [
    "# Paths\n",
    "output_folder = \"2024-fall-ml-3-hw-4-wheres-waldo/checks\"  # Folder to save images with drawn boxes\n",
    "\n",
    "# Create the output folder if it doesn't exist\n",
    "os.makedirs(output_folder, exist_ok=True)\n",
    "\n",
    "# Read the CSV file\n",
    "# Assumes the CSV columns are: filename, xmin, ymin, xmax, ymax\n",
    "annotations = pd.read_csv(annotations_file)\n",
    "\n",
    "# Iterate through each image in the annotations\n",
    "for _, row in annotations.iterrows():\n",
    "    image_name = row[\"filename\"]\n",
    "    x_min, y_min, x_max, y_max = row[\"xmin\"], row[\"ymin\"], row[\"xmax\"], row[\"ymax\"]\n",
    "    \n",
    "    # Load the image\n",
    "    image_path = os.path.join(train_folder, image_name)\n",
    "    if not os.path.exists(image_path):\n",
    "        print(f\"Image {image_path} not found. Skipping...\")\n",
    "        continue\n",
    "    image = cv2.imread(image_path)\n",
    "    \n",
    "    # Draw the bounding box\n",
    "    # cv2.rectangle(image, (x_min, y_min), (x_max, y_max), (B, G, R), thickness)\n",
    "    cv2.rectangle(image, (int(x_min), int(y_min)), (int(x_max), int(y_max)), (0, 255, 0), 4)\n",
    "    \n",
    "    # Optionally, add a label or text\n",
    "    label = \"Waldo\"\n",
    "    cv2.putText(image, label, (int(x_min), int(y_min) - 10), cv2.FONT_HERSHEY_SIMPLEX, 0.5, (0, 255, 0), 2)\n",
    "    \n",
    "    # Save the image\n",
    "    output_path = os.path.join(output_folder, image_name)\n",
    "    cv2.imwrite(output_path, image)\n",
    "\n",
    "    print(f\"Annotated image saved to {output_path}\")\n",
    "\n",
    "print(\"All bounding boxes have been drawn and saved.\")"
   ]
  },
  {
   "cell_type": "markdown",
   "metadata": {},
   "source": [
    "### Create More Training Images"
   ]
  },
  {
   "cell_type": "code",
   "execution_count": 7,
   "metadata": {},
   "outputs": [],
   "source": [
    "#Capture each waldo bounding box and save to waldo folder to create set of waldos\n",
    "\n",
    "# Define the paths\n",
    "image_folder = train_folder\n",
    "csv_path = annotations_file\n",
    "output_folder = \"2024-fall-ml-3-hw-4-wheres-waldo/train/waldo\"\n",
    "\n",
    "\n",
    "# Create the output folder if it doesn't exist\n",
    "os.makedirs(output_folder, exist_ok=True)\n",
    "\n",
    "# Read the CSV file\n",
    "with open(csv_path, mode='r') as csv_file:\n",
    "    csv_reader = csv.DictReader(csv_file)  # Use DictReader for column names\n",
    "    counter = 1\n",
    "\n",
    "    for row in csv_reader:\n",
    "        # Extract information from the CSV\n",
    "        filename = row[\"filename\"]\n",
    "        x_min = int(row[\"xmin\"])\n",
    "        y_min = int(row[\"ymin\"])\n",
    "        x_max = int(row[\"xmax\"])\n",
    "        y_max = int(row[\"ymax\"])\n",
    "\n",
    "        base, ext = os.path.splitext(filename)  # Split filename into base and extension\n",
    "        counter += 1\n",
    "\n",
    "        # Construct the full path to the image\n",
    "        image_path = os.path.join(image_folder, filename)\n",
    "\n",
    "        # Check if the image exists\n",
    "        if os.path.exists(image_path):\n",
    "            with Image.open(image_path) as img:\n",
    "                # Crop the image using bounding box coordinates\n",
    "                cropped_img = img.crop((x_min, y_min, x_max, y_max))\n",
    "\n",
    "                # Save the cropped image\n",
    "                if os.path.exists(os.path.join(output_folder, f\"cropped_{filename}\")):\n",
    "                    filename = f\"{base}_{counter}{ext}\"  # Add suffix to filename\n",
    "                    #counter += 1\n",
    "                    output_path = os.path.join(output_folder, f\"cropped_{filename}\")\n",
    "                    cropped_img.save(output_path)\n",
    "                else:\n",
    "                    output_path = os.path.join(output_folder, f\"cropped_{filename}\")\n",
    "                    cropped_img.save(output_path)\n",
    "        else:\n",
    "            print(f\"Warning: {filename} not found in {image_folder}\")"
   ]
  },
  {
   "cell_type": "code",
   "execution_count": 8,
   "metadata": {},
   "outputs": [
    {
     "name": "stdout",
     "output_type": "stream",
     "text": [
      "Deleted: 2024-fall-ml-3-hw-4-wheres-waldo/train/waldo/cropped_16.jpg\n",
      "Deleted: 2024-fall-ml-3-hw-4-wheres-waldo/train/waldo/cropped_8_20.jpg\n",
      "Deleted: 2024-fall-ml-3-hw-4-wheres-waldo/train/waldo/cropped_10_21.jpg\n",
      "Deleted: 2024-fall-ml-3-hw-4-wheres-waldo/train/waldo/cropped_25.jpg\n",
      "Deleted: 2024-fall-ml-3-hw-4-wheres-waldo/train/waldo/cropped_24.jpg\n",
      "Deleted: 2024-fall-ml-3-hw-4-wheres-waldo/train/waldo/cropped_26.jpg\n",
      "Deleted: 2024-fall-ml-3-hw-4-wheres-waldo/train/waldo/cropped_27_35.jpg\n"
     ]
    }
   ],
   "source": [
    "### Remove Waldo images that are wonky (too big)\n",
    "\n",
    "def delete_files_from_list(folder_path, file_names_to_delete):\n",
    "    \"\"\"Deletes files in the given folder if their name is in the provided list.\"\"\"\n",
    "\n",
    "    for filename in os.listdir(folder_path):\n",
    "        if filename in file_names_to_delete:\n",
    "            file_path = os.path.join(folder_path, filename)\n",
    "            os.remove(file_path)\n",
    "            print(f\"Deleted: {file_path}\")\n",
    "\n",
    "if __name__ == \"__main__\":\n",
    "    folder_path =  \"2024-fall-ml-3-hw-4-wheres-waldo/train/waldo\"\n",
    "    file_names_to_delete = [\"cropped_8_20.jpg\", \"cropped_10_21.jpg\", \"cropped_16.jpg\", \"cropped_24.jpg\", \"cropped_25.jpg\", \"cropped_26.jpg\", \"cropped_27_35.jpg\"]\n",
    "    delete_files_from_list(folder_path, file_names_to_delete)"
   ]
  },
  {
   "cell_type": "code",
   "execution_count": null,
   "metadata": {},
   "outputs": [
    {
     "name": "stdout",
     "output_type": "stream",
     "text": [
      "Deleted: 2024-fall-ml-3-hw-4-wheres-waldo/train/train/16.jpg\n",
      "Deleted: 2024-fall-ml-3-hw-4-wheres-waldo/train/train/22.jpg\n",
      "Deleted: 2024-fall-ml-3-hw-4-wheres-waldo/train/train/23.jpg\n",
      "Deleted: 2024-fall-ml-3-hw-4-wheres-waldo/train/train/27.jpg\n",
      "Deleted: 2024-fall-ml-3-hw-4-wheres-waldo/train/train/26.jpg\n",
      "Deleted: 2024-fall-ml-3-hw-4-wheres-waldo/train/train/24.jpg\n",
      "Deleted: 2024-fall-ml-3-hw-4-wheres-waldo/train/train/25.jpg\n"
     ]
    }
   ],
   "source": [
    "#Exclude no-busy-background images as they don't appear in the test set (16, 22-27)\n",
    "\n",
    "if __name__ == \"__main__\":\n",
    "    folder_path = train_folder\n",
    "    file_names_to_delete = [\"16.jpg\", \"22.jpg\", \"23.jpg\", \"24.jpg\", \"25.jpg\", \"26.jpg\", \"27.jpg\"]  # Replace with your file names\n",
    "    delete_files_from_list(folder_path, file_names_to_delete)"
   ]
  },
  {
   "cell_type": "code",
   "execution_count": 9,
   "metadata": {},
   "outputs": [],
   "source": [
    "# Define the paths\n",
    "input_folder = train_folder\n",
    "overlay_folder = \"2024-fall-ml-3-hw-4-wheres-waldo/train/waldo\"\n",
    "output_folder = \"2024-fall-ml-3-hw-4-wheres-waldo/train/chunks\"\n",
    "csv_path = \"2024-fall-ml-3-hw-4-wheres-waldo/train/annotations_chunks.csv\"\n",
    "\n",
    "# Create the output folder if it doesn't exist\n",
    "os.makedirs(output_folder, exist_ok=True)\n",
    "\n",
    "# Open the CSV file for saving bounding box annotations\n",
    "with open(csv_path, mode='w', newline='') as csv_file:\n",
    "    csv_writer = csv.writer(csv_file)\n",
    "    # Write header\n",
    "    csv_writer.writerow([\"filename\", \"x_min\", \"y_min\", \"x_max\", \"y_max\"])\n",
    "\n",
    "    # Parameters\n",
    "    chunk_size = 512\n",
    "\n",
    "    # Get the list of image files\n",
    "    large_images = [os.path.join(input_folder, f) for f in os.listdir(input_folder) if f.endswith('.jpg')]\n",
    "    smaller_images = [os.path.join(overlay_folder, f) for f in os.listdir(overlay_folder) if f.endswith('.jpg')]\n",
    "\n",
    "    # Process each large image\n",
    "    for img_idx, large_image_path in enumerate(large_images):\n",
    "        with Image.open(large_image_path) as img:\n",
    "            img = img.convert(\"RGBA\")  # Ensure RGBA mode for transparency\n",
    "            width, height = img.size\n",
    "\n",
    "            # Chop into 128x128 chunks\n",
    "            for top in range(0, height, chunk_size):\n",
    "                for left in range(0, width, chunk_size):\n",
    "                    box = (left, top, left + chunk_size, top + chunk_size)\n",
    "                    chunk = img.crop(box)\n",
    "\n",
    "                    # If the chunk is smaller than 128x128, pad it\n",
    "                    if chunk.size != (chunk_size, chunk_size):\n",
    "                        padded_chunk = Image.new(\"RGBA\", (chunk_size, chunk_size), (255, 255, 255, 0))\n",
    "                        padded_chunk.paste(chunk, (0, 0))\n",
    "                        chunk = padded_chunk\n",
    "\n",
    "                    # Randomly select a smaller image\n",
    "                    overlay_path = random.choice(smaller_images)\n",
    "                    try:\n",
    "                        with Image.open(overlay_path) as overlay:\n",
    "                            overlay = overlay.convert(\"RGBA\")  # Ensure RGBA mode\n",
    "\n",
    "                            # Resize overlay to fit within the chunk\n",
    "                            max_overlay_size = (random.randint(32, chunk_size), random.randint(32, chunk_size))\n",
    "                            overlay.thumbnail(max_overlay_size, Image.Resampling.LANCZOS)\n",
    "\n",
    "                            # Random position for overlay\n",
    "                            overlay_x = random.randint(0, chunk_size - overlay.width)\n",
    "                            overlay_y = random.randint(0, chunk_size - overlay.height)\n",
    "\n",
    "                            # Superimpose the overlay onto the chunk\n",
    "                            chunk.paste(overlay, (overlay_x, overlay_y), overlay)\n",
    "\n",
    "                            # Calculate bounding box\n",
    "                            x_min = overlay_x\n",
    "                            y_min = overlay_y\n",
    "                            x_max = overlay_x + overlay.width\n",
    "                            y_max = overlay_y + overlay.height\n",
    "\n",
    "                            # Save bounding box to CSV\n",
    "                            output_filename = f\"chunk_{img_idx}_{top}_{left}.jpg\"\n",
    "                            csv_writer.writerow([output_filename, x_min, y_min, x_max, y_max])\n",
    "\n",
    "                            # Save the resulting 128x128 image\n",
    "                            output_path = os.path.join(output_folder, output_filename)\n",
    "                            chunk.convert(\"RGB\").save(output_path, \"JPEG\")\n",
    "\n",
    "                    except Exception as e:\n",
    "                        print(f\"Error processing overlay {overlay_path}: {e}\")\n"
   ]
  },
  {
   "cell_type": "markdown",
   "metadata": {},
   "source": [
    "# Train/Test Split"
   ]
  },
  {
   "cell_type": "code",
   "execution_count": 10,
   "metadata": {},
   "outputs": [
    {
     "name": "stdout",
     "output_type": "stream",
     "text": [
      "Moved: chunk_18_1024_1024.jpg\n",
      "Moved: chunk_15_512_1536.jpg\n",
      "Moved: chunk_14_512_512.jpg\n",
      "Moved: chunk_11_512_1024.jpg\n",
      "Moved: chunk_4_1024_0.jpg\n",
      "Moved: chunk_10_0_2560.jpg\n",
      "Moved: chunk_12_512_1024.jpg\n",
      "Moved: chunk_19_1024_1024.jpg\n",
      "Moved: chunk_0_512_1536.jpg\n",
      "Moved: chunk_8_0_1024.jpg\n",
      "Moved: chunk_1_0_0.jpg\n",
      "Moved: chunk_16_512_512.jpg\n",
      "Moved: chunk_2_2048_0.jpg\n",
      "Moved: chunk_14_1536_1536.jpg\n",
      "Moved: chunk_14_0_2048.jpg\n",
      "Moved: chunk_19_0_1536.jpg\n",
      "Moved: chunk_5_1536_0.jpg\n",
      "Moved: chunk_0_512_0.jpg\n",
      "Moved: chunk_15_0_512.jpg\n",
      "Moved: chunk_4_1024_512.jpg\n",
      "Moved: chunk_10_512_1024.jpg\n",
      "Moved: chunk_10_1024_1024.jpg\n",
      "Moved: chunk_0_1536_512.jpg\n",
      "Moved: chunk_15_512_512.jpg\n",
      "Moved: chunk_7_1536_2560.jpg\n",
      "Moved: chunk_10_1536_0.jpg\n",
      "Moved: chunk_5_1024_1024.jpg\n",
      "Moved: chunk_4_1024_1024.jpg\n",
      "Moved: chunk_7_0_1024.jpg\n",
      "Moved: chunk_0_1024_1536.jpg\n",
      "Moved: chunk_2_0_0.jpg\n",
      "Moved: chunk_14_512_0.jpg\n",
      "Moved: chunk_16_1024_1024.jpg\n",
      "Moved: chunk_7_1536_1536.jpg\n",
      "Moved: chunk_2_0_1536.jpg\n",
      "Moved: chunk_13_1024_512.jpg\n",
      "Moved: chunk_5_512_0.jpg\n",
      "Moved: chunk_18_0_0.jpg\n",
      "Moved: chunk_15_0_0.jpg\n",
      "Moved: chunk_0_512_2048.jpg\n",
      "Moved: chunk_18_1024_1536.jpg\n",
      "Moved: chunk_2_1536_1536.jpg\n",
      "Moved: chunk_8_512_512.jpg\n",
      "Moved: chunk_5_512_1024.jpg\n",
      "Moved: chunk_1_0_512.jpg\n",
      "Moved: chunk_10_2048_1536.jpg\n",
      "Moved: chunk_17_0_0.jpg\n",
      "Moved: chunk_0_1536_0.jpg\n",
      "Moved: chunk_6_512_512.jpg\n",
      "Moved: chunk_10_512_1536.jpg\n",
      "Moved: chunk_18_1024_0.jpg\n",
      "Moved: chunk_12_0_0.jpg\n",
      "Moved: chunk_8_0_512.jpg\n"
     ]
    }
   ],
   "source": [
    "# Split training data into train and validation sets\n",
    "annotations = pd.read_csv(\"2024-fall-ml-3-hw-4-wheres-waldo/train/annotations_chunks.csv\")\n",
    "image_files = annotations[\"filename\"].unique()\n",
    "train_images, val_images = train_test_split(image_files, test_size=0.2, random_state=42)\n",
    "\n",
    "def filter_csv_by_column(input_csv, output_csv, column_name, values_list):\n",
    "\n",
    "    # Load the CSV into a DataFrame\n",
    "    df = pd.read_csv(input_csv)\n",
    "\n",
    "    # Filter the DataFrame\n",
    "    filtered_df = df[df[column_name].isin(values_list)]\n",
    "\n",
    "    # Save the filtered DataFrame to a new CSV file\n",
    "    filtered_df.to_csv(output_csv, index=False)\n",
    "\n",
    "#Train Annotations\n",
    "values_list = list(train_images)\n",
    "output_csv = \"2024-fall-ml-3-hw-4-wheres-waldo/train_annotations.csv\"  # Replace with your output file path\n",
    "column_name = \"filename\"  # Replace with the column you want to filter\n",
    "filter_csv_by_column(\"2024-fall-ml-3-hw-4-wheres-waldo/train/annotations_chunks.csv\", output_csv, column_name, values_list)\n",
    "\n",
    "#Test Annotations\n",
    "values_list = list(val_images)\n",
    "output_csv = \"2024-fall-ml-3-hw-4-wheres-waldo/test_annotations.csv\"  # Replace with your output file path\n",
    "column_name = \"filename\"  # Replace with the column you want to filter\n",
    "filter_csv_by_column(\"2024-fall-ml-3-hw-4-wheres-waldo/train/annotations_chunks.csv\", output_csv, column_name, values_list)\n",
    "\n",
    "#Train/Test Split (80/20)\n",
    "def split_directory(source_dir, target_dir, file_list):\n",
    "    \"\"\"Splits files from source_dir to target_dir based on file_list.\"\"\"\n",
    "\n",
    "    if not os.path.exists(target_dir):\n",
    "        os.makedirs(target_dir)\n",
    "\n",
    "    for file_name in file_list:\n",
    "        source_path = os.path.join(source_dir, file_name)\n",
    "        target_path = os.path.join(target_dir, file_name)\n",
    "\n",
    "        if os.path.exists(source_path):\n",
    "            shutil.move(source_path, target_path)\n",
    "            print(f\"Moved: {file_name}\")\n",
    "        else:\n",
    "            print(f\"File not found: {file_name}\")\n",
    "\n",
    "if __name__ == \"__main__\":\n",
    "    source_dir = \"2024-fall-ml-3-hw-4-wheres-waldo/train/chunks\"\n",
    "    target_dir = \"2024-fall-ml-3-hw-4-wheres-waldo/train/val\"\n",
    "    file_list = list(val_images)\n",
    "\n",
    "    split_directory(source_dir, target_dir, file_list)"
   ]
  }
 ],
 "metadata": {
  "kernelspec": {
   "display_name": "Python 3",
   "language": "python",
   "name": "python3"
  },
  "language_info": {
   "codemirror_mode": {
    "name": "ipython",
    "version": 3
   },
   "file_extension": ".py",
   "mimetype": "text/x-python",
   "name": "python",
   "nbconvert_exporter": "python",
   "pygments_lexer": "ipython3",
   "version": "3.12.5"
  }
 },
 "nbformat": 4,
 "nbformat_minor": 2
}
